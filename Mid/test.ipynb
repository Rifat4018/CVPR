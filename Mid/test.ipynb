{
 "cells": [
  {
   "cell_type": "markdown",
   "id": "1185882d",
   "metadata": {},
   "source": [
    "Imports and Configuration"
   ]
  },
  {
   "cell_type": "code",
   "execution_count": 1,
   "id": "40656c05",
   "metadata": {},
   "outputs": [],
   "source": [
    "# ==== CPU-only MNIST Webcam Inference ====\n",
    "import os\n",
    "os.environ[\"CUDA_VISIBLE_DEVICES\"] = \"-1\"  # force CPU\n",
    "\n",
    "import cv2\n",
    "import numpy as np\n",
    "import tensorflow as tf\n",
    "from tensorflow.keras.models import load_model\n",
    "\n",
    "try:\n",
    "    tf.config.set_visible_devices([], 'GPU')\n",
    "except Exception:\n",
    "    pass\n",
    "\n",
    "# ----------------- Config -----------------\n",
    "MODEL_PATH = \"mnist_cnn_advanced.h5\"  # Your model file\n",
    "CAM_INDEX = 0\n",
    "ROI_SIZE = 500\n",
    "USE_AUTO_THRESH = True\n",
    "BIN_THRESH = 140"
   ]
  },
  {
   "cell_type": "markdown",
   "id": "0f0e342d",
   "metadata": {},
   "source": [
    "Load Model"
   ]
  },
  {
   "cell_type": "code",
   "execution_count": 2,
   "id": "44f9f185",
   "metadata": {},
   "outputs": [
    {
     "name": "stdout",
     "output_type": "stream",
     "text": [
      "Model loaded successfully!\n"
     ]
    }
   ],
   "source": [
    "# ----------------- Model Loading -----------------\n",
    "if not os.path.exists(MODEL_PATH):\n",
    "    raise FileNotFoundError(f\"Model not found: '{MODEL_PATH}'\")\n",
    "\n",
    "model = load_model(MODEL_PATH, compile=False)\n",
    "print(\"Model loaded successfully!\")"
   ]
  },
  {
   "cell_type": "markdown",
   "id": "0f3d9069",
   "metadata": {},
   "source": [
    "Preprocessing Function"
   ]
  },
  {
   "cell_type": "code",
   "execution_count": 3,
   "id": "4e14740e",
   "metadata": {},
   "outputs": [],
   "source": [
    "# ----------------- Preprocessing Function -----------------\n",
    "def preprocess_webcam_image(bgr_roi, use_auto=True, manual_thresh=140):\n",
    "    \"\"\"ROI (BGR) -> (x_in: 1x28x28x1 float, dbg: 28x28 uint8). White digit on black, centered, MNIST-like.\"\"\"\n",
    "    gray = cv2.cvtColor(bgr_roi, cv2.COLOR_BGR2GRAY)\n",
    "    gray = cv2.GaussianBlur(gray, (5, 5), 0)\n",
    "    \n",
    "    if use_auto:\n",
    "        th = cv2.adaptiveThreshold(gray, 255, cv2.ADAPTIVE_THRESH_GAUSSIAN_C, \n",
    "                                  cv2.THRESH_BINARY_INV, 25, 10)\n",
    "    else:\n",
    "        _, th = cv2.threshold(gray, manual_thresh, 255, cv2.THRESH_BINARY_INV)\n",
    "    \n",
    "    th = cv2.medianBlur(th, 3)\n",
    "    th = cv2.dilate(th, np.ones((3, 3), np.uint8), iterations=1)\n",
    "    \n",
    "    ys, xs = np.where(th > 0)\n",
    "    if len(xs) == 0 or len(ys) == 0:\n",
    "        blank = np.zeros((28, 28), dtype=np.uint8)\n",
    "        return blank.reshape(1, 28, 28, 1).astype(np.float32), blank\n",
    "    \n",
    "    pad = 6\n",
    "    x0, x1 = max(0, xs.min()-pad), min(th.shape[1], xs.max()+pad+1)\n",
    "    y0, y1 = max(0, ys.min()-pad), min(th.shape[0], ys.max()+pad+1)\n",
    "    crop = th[y0:y1, x0:x1]\n",
    "    \n",
    "    h, w = crop.shape\n",
    "    if h >= w:\n",
    "        new_h = 20\n",
    "        new_w = max(1, int(round(w * (20.0 / h))))\n",
    "    else:\n",
    "        new_w = 20\n",
    "        new_h = max(1, int(round(h * (20.0 / w))))\n",
    "    \n",
    "    resized = cv2.resize(crop, (new_w, new_h), interpolation=cv2.INTER_AREA)\n",
    "    \n",
    "    canvas = np.zeros((28, 28), dtype=np.uint8)\n",
    "    y_off = (28 - new_h) // 2\n",
    "    x_off = (28 - new_w) // 2\n",
    "    canvas[y_off:y_off+new_h, x_off:x_off+new_w] = resized\n",
    "    \n",
    "    # Center via image moments\n",
    "    M = cv2.moments(canvas, binaryImage=True)\n",
    "    if M[\"m00\"] != 0:\n",
    "        cx = M[\"m10\"] / M[\"m00\"]\n",
    "        cy = M[\"m01\"] / M[\"m00\"]\n",
    "        dx = int(round(14 - cx))\n",
    "        dy = int(round(14 - cy))\n",
    "        T = np.float32([[1, 0, dx], [0, 1, dy]])\n",
    "        canvas = cv2.warpAffine(canvas, T, (28, 28))\n",
    "    \n",
    "    x_in = (canvas.astype(np.float32) / 255.0).reshape(1, 28, 28, 1)\n",
    "    return x_in, canvas"
   ]
  },
  {
   "cell_type": "markdown",
   "id": "bc857e5b",
   "metadata": {},
   "source": [
    "Main Webcam Function"
   ]
  },
  {
   "cell_type": "code",
   "execution_count": 4,
   "id": "13107b51",
   "metadata": {},
   "outputs": [],
   "source": [
    "# ----------------- Main Webcam Function -----------------\n",
    "def webcam_prediction_fixed_input():\n",
    "    cap = cv2.VideoCapture(CAM_INDEX)\n",
    "    if not cap.isOpened():\n",
    "        print(\"ERROR: Could not open webcam\")\n",
    "        return\n",
    "    \n",
    "    print(\"Webcam ready! Draw numbers in the green box.\")\n",
    "    print(\"Press 'q' to quit, 't' to toggle auto/fixed threshold\")\n",
    "    print(\"Use '[' and ']' to adjust fixed threshold\")\n",
    "    \n",
    "    use_auto_thresh = USE_AUTO_THRESH\n",
    "    bin_thresh = BIN_THRESH\n",
    "    \n",
    "    # For stabilizing predictions\n",
    "    prediction_history = []\n",
    "    history_size = 5  # Number of previous predictions to consider\n",
    "    \n",
    "    while True:\n",
    "        ret, frame = cap.read()\n",
    "        if not ret:\n",
    "            break\n",
    "        \n",
    "        # Define ROI\n",
    "        height, width = frame.shape[:2]\n",
    "        roi_size = ROI_SIZE\n",
    "        x1 = (width - roi_size) // 2\n",
    "        y1 = (height - roi_size) // 2\n",
    "        x2 = x1 + roi_size\n",
    "        y2 = y1 + roi_size\n",
    "        \n",
    "        # Draw ROI\n",
    "        display_frame = frame.copy()\n",
    "        cv2.rectangle(display_frame, (x1, y1), (x2, y2), (255, 0, 0), 2)\n",
    "        \n",
    "        # Extract and process ROI\n",
    "        roi = frame[y1:y2, x1:x2]\n",
    "        \n",
    "        # Process for model prediction\n",
    "        processed, debug_img = preprocess_webcam_image(roi, use_auto_thresh, bin_thresh)\n",
    "        \n",
    "        # Predict\n",
    "        with tf.device('/CPU:0'):\n",
    "            prediction = model.predict(processed, verbose=0)\n",
    "        \n",
    "        # Add to prediction history for stabilization\n",
    "        prediction_history.append(prediction[0])\n",
    "        if len(prediction_history) > history_size:\n",
    "            prediction_history.pop(0)\n",
    "        \n",
    "        # Calculate average prediction\n",
    "        avg_prediction = np.mean(prediction_history, axis=0)\n",
    "        predicted_class = np.argmax(avg_prediction)\n",
    "        confidence = np.max(avg_prediction)\n",
    "        \n",
    "        # Display results\n",
    "        cv2.putText(display_frame, f\"Pred: {predicted_class}\", (10, 30), \n",
    "                   cv2.FONT_HERSHEY_SIMPLEX, 1, (255, 0, 0), 2)\n",
    "        cv2.putText(display_frame, f\"Conf: {confidence:.2f}\", (10, 70), \n",
    "                   cv2.FONT_HERSHEY_SIMPLEX, 0.7, (255, 0, 0), 2)\n",
    "        \n",
    "        # Show threshold mode\n",
    "        thresh_mode = \"AUTO\" if use_auto_thresh else f\"FIXED({bin_thresh})\"\n",
    "        cv2.putText(display_frame, f\"Thresh: {thresh_mode}\", (10, 110), \n",
    "                   cv2.FONT_HERSHEY_SIMPLEX, 0.5, (255, 0, 0), 1)\n",
    "        \n",
    "        # Show processed 28x28 image (what CNN sees)\n",
    "        debug_display = cv2.resize(debug_img, (100, 100))\n",
    "        debug_display = cv2.cvtColor(debug_display, cv2.COLOR_GRAY2BGR)\n",
    "        display_frame[10:110, width-110:width-10] = debug_display\n",
    "        cv2.putText(display_frame, \"CNN Sees\", (width-105, 120), \n",
    "                   cv2.FONT_HERSHEY_SIMPLEX, 0.4, (255, 0, 0), 1)\n",
    "        \n",
    "        cv2.imshow('MNIST Prediction (Fixed Input)', display_frame)\n",
    "        \n",
    "        key = cv2.waitKey(1) & 0xFF\n",
    "        if key == ord('q'):\n",
    "            break\n",
    "        elif key == ord('t'):\n",
    "            use_auto_thresh = not use_auto_thresh\n",
    "            prediction_history = []  # Reset history when changing threshold\n",
    "        elif key == ord('['):\n",
    "            bin_thresh = max(0, bin_thresh - 5)\n",
    "            prediction_history = []  # Reset history when changing threshold\n",
    "        elif key == ord(']'):\n",
    "            bin_thresh = min(255, bin_thresh + 5)\n",
    "            prediction_history = []  # Reset history when changing threshold\n",
    "    \n",
    "    cap.release()\n",
    "    cv2.destroyAllWindows()"
   ]
  },
  {
   "cell_type": "markdown",
   "id": "228731b9",
   "metadata": {},
   "source": [
    "Run the Webcam"
   ]
  },
  {
   "cell_type": "code",
   "execution_count": 5,
   "id": "da4dc07f",
   "metadata": {},
   "outputs": [
    {
     "name": "stdout",
     "output_type": "stream",
     "text": [
      "Starting webcam inference...\n"
     ]
    },
    {
     "name": "stdout",
     "output_type": "stream",
     "text": [
      "Webcam ready! Draw numbers in the green box.\n",
      "Press 'q' to quit, 't' to toggle auto/fixed threshold\n",
      "Use '[' and ']' to adjust fixed threshold\n",
      "Webcam inference completed!\n"
     ]
    }
   ],
   "source": [
    "# ----------------- Run Webcam Inference -----------------\n",
    "print(\"Starting webcam inference...\")\n",
    "webcam_prediction_fixed_input()\n",
    "print(\"Webcam inference completed!\")"
   ]
  }
 ],
 "metadata": {
  "kernelspec": {
   "display_name": "mnist_env",
   "language": "python",
   "name": "python3"
  },
  "language_info": {
   "codemirror_mode": {
    "name": "ipython",
    "version": 3
   },
   "file_extension": ".py",
   "mimetype": "text/x-python",
   "name": "python",
   "nbconvert_exporter": "python",
   "pygments_lexer": "ipython3",
   "version": "3.10.8"
  }
 },
 "nbformat": 4,
 "nbformat_minor": 5
}
